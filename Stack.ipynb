{
 "cells": [
  {
   "cell_type": "markdown",
   "id": "south-thompson",
   "metadata": {},
   "source": [
    "## Implementation using List"
   ]
  },
  {
   "cell_type": "code",
   "execution_count": 64,
   "id": "experimental-multimedia",
   "metadata": {},
   "outputs": [],
   "source": [
    "class Stack:\n",
    "    def __init__(self, stack=[]):\n",
    "        self.stack = stack\n",
    "\n",
    "    def push(self, item):\n",
    "        self.stack.append(item)\n",
    "        return True\n",
    "    \n",
    "    def is_empty(self) -> bool:\n",
    "        return not bool(self.stack)\n",
    "\n",
    "    def pop(self) -> bool:\n",
    "        if not self.is_empty():\n",
    "            self.stack.pop()\n",
    "            return True\n",
    "        return False\n",
    "    \n",
    "    def peek(self):\n",
    "        if not self.is_empty():\n",
    "            return self.stack[-1]\n",
    "    \n",
    "    def size(self) -> int:\n",
    "        return len(self.stack)"
   ]
  },
  {
   "cell_type": "code",
   "execution_count": 65,
   "id": "commercial-carroll",
   "metadata": {},
   "outputs": [
    {
     "name": "stdout",
     "output_type": "stream",
     "text": [
      "<<< Size of Stack >>>>>\n",
      "5\n",
      "<<<< Display >>>>>\n"
     ]
    },
    {
     "data": {
      "text/plain": [
       "[12, True, 'test', -1]"
      ]
     },
     "execution_count": 65,
     "metadata": {},
     "output_type": "execute_result"
    }
   ],
   "source": [
    "a = Stack()\n",
    "\n",
    "# push 5 elements\n",
    "a.push(12)\n",
    "a.push(True)\n",
    "a.push('test')\n",
    "a.push(-1)\n",
    "a.push(0)\n",
    "\n",
    "# get the size\n",
    "print('<<< Size of Stack >>>>>')\n",
    "print(a.size())\n",
    "\n",
    "# pop from the stack\n",
    "a.pop()\n",
    "\n",
    "# display all elements in the stack\n",
    "print('<<<< Display >>>>>')\n",
    "a.stack"
   ]
  },
  {
   "cell_type": "markdown",
   "id": "numerical-shopper",
   "metadata": {},
   "source": [
    "## Implementation using Dequeue\n",
    "\n",
    "* Python’s deque objects are implemented as doubly-linked lists \n",
    "* It gives dequeue O(1) time complexity for enqueuing and dequeuing elements\n",
    "* O(n) time complexity for randomly accessing elements in the middle of the queue\n",
    "* Because deques support adding and removing elements from either end equally well, it can be actually used for both queues and stacks"
   ]
  },
  {
   "cell_type": "code",
   "execution_count": 53,
   "id": "final-shepherd",
   "metadata": {},
   "outputs": [
    {
     "data": {
      "text/plain": [
       "deque(['a', 'b'])"
      ]
     },
     "execution_count": 53,
     "metadata": {},
     "output_type": "execute_result"
    }
   ],
   "source": [
    "from collections import deque\n",
    "\n",
    "my_stack = deque()\n",
    "\n",
    "my_stack.append('a') # push element into the the stack\n",
    "my_stack.append('b')\n",
    "my_stack.append('c')\n",
    "\n",
    "my_stack.pop() # pop element from the stack\n",
    "len(my_stack) # get length of the stack, can be used to check is_empty as well\n",
    "my_stack # display"
   ]
  },
  {
   "cell_type": "markdown",
   "id": "explicit-championship",
   "metadata": {},
   "source": [
    "## Implementation using LifoQueue"
   ]
  },
  {
   "cell_type": "code",
   "execution_count": 15,
   "id": "sealed-lease",
   "metadata": {},
   "outputs": [
    {
     "name": "stdout",
     "output_type": "stream",
     "text": [
      "<queue.LifoQueue object at 0x7fc2dc338a20>\n"
     ]
    },
    {
     "data": {
      "text/plain": [
       "'c'"
      ]
     },
     "execution_count": 15,
     "metadata": {},
     "output_type": "execute_result"
    }
   ],
   "source": [
    "from queue import LifoQueue\n",
    "my_stack = LifoQueue()\n",
    "\n",
    "my_stack.put('a') # push operation\n",
    "my_stack.put('b')\n",
    "my_stack.put('c')\n",
    "\n",
    "print(my_stack) # printing will show you an object\n",
    "\n",
    "my_stack.get() # pop operation"
   ]
  },
  {
   "cell_type": "code",
   "execution_count": null,
   "id": "suburban-reality",
   "metadata": {},
   "outputs": [],
   "source": []
  },
  {
   "cell_type": "markdown",
   "id": "dress-circle",
   "metadata": {},
   "source": [
    "## Implementation using LinkedList\n",
    "* Writing the code, instead of linkedlist based built library like collections.deque"
   ]
  },
  {
   "cell_type": "code",
   "execution_count": 20,
   "id": "consolidated-croatia",
   "metadata": {},
   "outputs": [],
   "source": [
    "# https://www.geeksforgeeks.org/stack-data-structure-introduction-program/"
   ]
  },
  {
   "cell_type": "code",
   "execution_count": 50,
   "id": "architectural-spine",
   "metadata": {},
   "outputs": [],
   "source": [
    "class StackNode:\n",
    " \n",
    "    # Constructor to initialize a node\n",
    "    def __init__(self, data):\n",
    "        self.data = data\n",
    "        self.next = None\n",
    "        \n",
    "class Stack:\n",
    "    def __init__(self, root=None):\n",
    "        self.root = root\n",
    "        \n",
    "    def push(self, item):\n",
    "        this_node = StackNode(item)\n",
    "        this_node.next = self.root\n",
    "        self.root = this_node\n",
    "        return True\n",
    "    \n",
    "    def pop(self):\n",
    "        if self.root:\n",
    "            temp = self.root.data\n",
    "            self.root = self.root.next\n",
    "            return temp\n",
    "        return False\n",
    "    \n",
    "    def size(self):\n",
    "        if self.is_empty():\n",
    "            return 0\n",
    "        this_node = self.root\n",
    "        size = 0\n",
    "        if this_node.next:\n",
    "            size += 1\n",
    "            this_node = this_node.next\n",
    "        return size+1\n",
    "        \n",
    "    def is_empty(self):\n",
    "        return not bool(self.root)\n",
    "    \n",
    "    \n",
    "    def display(self):\n",
    "        current = self.root\n",
    "        if current:\n",
    "            print(current.data)\n",
    "        while current.next:\n",
    "            current = current.next\n",
    "            print(current.data)\n",
    "            \n",
    "        "
   ]
  },
  {
   "cell_type": "code",
   "execution_count": 52,
   "id": "august-defense",
   "metadata": {},
   "outputs": [
    {
     "name": "stdout",
     "output_type": "stream",
     "text": [
      "<<< Size of Stack >>>>>\n",
      "2\n",
      "<<<< Display >>>>>\n",
      "-1\n",
      "test\n",
      "True\n",
      "12\n"
     ]
    }
   ],
   "source": [
    "a = Stack()\n",
    "\n",
    "# push 5 elements\n",
    "a.push(12)\n",
    "a.push(True)\n",
    "a.push('test')\n",
    "a.push(-1)\n",
    "a.push(0)\n",
    "\n",
    "# get the size\n",
    "print('<<< Size of Stack >>>>>')\n",
    "print(a.size())\n",
    "\n",
    "# pop from the stack\n",
    "a.pop()\n",
    "\n",
    "# display all elements in the stack\n",
    "print('<<<< Display >>>>>')\n",
    "a.display()\n"
   ]
  },
  {
   "cell_type": "markdown",
   "id": "figured-terminal",
   "metadata": {},
   "source": [
    "# Problem solving"
   ]
  },
  {
   "cell_type": "code",
   "execution_count": null,
   "id": "periodic-house",
   "metadata": {},
   "outputs": [],
   "source": []
  },
  {
   "cell_type": "code",
   "execution_count": null,
   "id": "simple-canada",
   "metadata": {},
   "outputs": [],
   "source": []
  },
  {
   "cell_type": "code",
   "execution_count": null,
   "id": "damaged-cambridge",
   "metadata": {},
   "outputs": [],
   "source": []
  },
  {
   "cell_type": "code",
   "execution_count": null,
   "id": "indirect-riverside",
   "metadata": {},
   "outputs": [],
   "source": []
  },
  {
   "cell_type": "code",
   "execution_count": null,
   "id": "soviet-lending",
   "metadata": {},
   "outputs": [],
   "source": []
  },
  {
   "cell_type": "code",
   "execution_count": null,
   "id": "afraid-camcorder",
   "metadata": {},
   "outputs": [],
   "source": []
  },
  {
   "cell_type": "code",
   "execution_count": null,
   "id": "bacterial-monday",
   "metadata": {},
   "outputs": [],
   "source": []
  },
  {
   "cell_type": "code",
   "execution_count": null,
   "id": "polar-frank",
   "metadata": {},
   "outputs": [],
   "source": []
  }
 ],
 "metadata": {
  "kernelspec": {
   "display_name": "Python 3",
   "language": "python",
   "name": "python3"
  },
  "language_info": {
   "codemirror_mode": {
    "name": "ipython",
    "version": 3
   },
   "file_extension": ".py",
   "mimetype": "text/x-python",
   "name": "python",
   "nbconvert_exporter": "python",
   "pygments_lexer": "ipython3",
   "version": "3.5.2"
  }
 },
 "nbformat": 4,
 "nbformat_minor": 5
}

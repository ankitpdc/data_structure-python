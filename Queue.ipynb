{
 "cells": [
  {
   "cell_type": "code",
   "execution_count": null,
   "id": "private-meter",
   "metadata": {},
   "outputs": [],
   "source": [
    "'''\n",
    "There are four types of Queue, we will see the implmentation of following:\n",
    "    Normal or Regular Queue\n",
    "    Circular Queue\n",
    "    Priority Queue\n",
    "''' "
   ]
  },
  {
   "cell_type": "markdown",
   "id": "satisfactory-walter",
   "metadata": {},
   "source": [
    "# Regular Queue Implementation"
   ]
  },
  {
   "cell_type": "markdown",
   "id": "realistic-programmer",
   "metadata": {},
   "source": [
    "## Regular Queue: Implementation using List - simplest one"
   ]
  },
  {
   "cell_type": "code",
   "execution_count": 13,
   "id": "double-alaska",
   "metadata": {},
   "outputs": [],
   "source": [
    "# dequeue(0) and enqueue(0) operations using list, both will require O(n) time complexity for input of size n\n",
    "# Hence it is not used for queue purpose rather collection dequeue is used\n",
    "# dequeue is based on doubly linkedlist, which makes the time complexity of O(1) for below operations\n",
    "\n",
    "class Queue:\n",
    "    def __init__(self, queue=[]):\n",
    "        self.queue = queue\n",
    "\n",
    "    def enqueue(self, item):\n",
    "        self.queue.insert(0, item)\n",
    "        return True\n",
    "    \n",
    "    def is_empty(self) -> bool:\n",
    "        return not bool(self.queue)\n",
    "\n",
    "    def dequeue(self) -> bool:\n",
    "        if not self.is_empty():\n",
    "            x = self.queue.pop(0)\n",
    "            return x\n",
    "        return '-infi'\n",
    "    \n",
    "    def size(self) -> int:\n",
    "        return len(self.queue)\n",
    "    \n",
    "    def display(self) -> list:\n",
    "        print(self.queue)"
   ]
  },
  {
   "cell_type": "code",
   "execution_count": 14,
   "id": "legitimate-deviation",
   "metadata": {},
   "outputs": [
    {
     "name": "stdout",
     "output_type": "stream",
     "text": [
      "<<<< Display >>>>\n",
      "[0, -1, 'test', False, 5]\n",
      "None\n",
      "<<< Size >>>\n",
      "5\n",
      "<<< Size after Dequeue >>>\n",
      "4\n"
     ]
    }
   ],
   "source": [
    "q = Queue()\n",
    "\n",
    "q.enqueue(5)\n",
    "q.enqueue(False)\n",
    "q.enqueue('test')\n",
    "q.enqueue(-1)\n",
    "q.enqueue(0)\n",
    "\n",
    "print('<<<< Display >>>>')\n",
    "print(q.display())\n",
    "\n",
    "print('<<< Size >>>')\n",
    "print(q.size())\n",
    "\n",
    "q.dequeue()\n",
    "\n",
    "print('<<< Size after Dequeue >>>')\n",
    "print(q.size())"
   ]
  },
  {
   "cell_type": "markdown",
   "id": "functional-dance",
   "metadata": {},
   "source": [
    "## Regular Queue: Implementation using collections.deque"
   ]
  },
  {
   "cell_type": "code",
   "execution_count": null,
   "id": "composed-siemens",
   "metadata": {},
   "outputs": [],
   "source": []
  },
  {
   "cell_type": "code",
   "execution_count": null,
   "id": "static-characterization",
   "metadata": {},
   "outputs": [],
   "source": []
  },
  {
   "cell_type": "markdown",
   "id": "connected-navigator",
   "metadata": {},
   "source": [
    "## Regular Queue: Implementation using List, using two pointer"
   ]
  },
  {
   "cell_type": "code",
   "execution_count": 115,
   "id": "internal-antique",
   "metadata": {},
   "outputs": [],
   "source": [
    "class Queue:\n",
    "    def __init__(self, queue=[], max_size=10):\n",
    "        self.queue = queue\n",
    "        self.max_size = max_size\n",
    "        self.front = -1\n",
    "        self.rear = -1\n",
    "        \n",
    "    def enqueue(self, data):\n",
    "        if self.is_empty():\n",
    "            self.queue.append(data)\n",
    "            self.rear = 0\n",
    "            self.front = 0\n",
    "        elif self.rear == self.max_size-1:\n",
    "            print('list is full, waiting for reset till it is empty')\n",
    "        else:\n",
    "            self.rear += 1\n",
    "            self.queue.append(data)\n",
    "        \n",
    "    def dequeue(self):\n",
    "        if self.front == self.max_size - 1:\n",
    "            self.front = -1\n",
    "            self.end = -1\n",
    "        elif self.front == -1:\n",
    "            print('empty!!!')\n",
    "        else:\n",
    "            self.front += 1\n",
    "        \n",
    "    def is_empty(self):\n",
    "        return (self.front == -1 and self.rear == -1)\n",
    "        \n",
    "    def size(self):\n",
    "        if self.is_empty():\n",
    "            return 0\n",
    "        else:\n",
    "            return self.rear - self.front + 1\n",
    "        \n",
    "    def display(self):\n",
    "        point = self.front\n",
    "        if not self.is_empty():\n",
    "            while point <= self.rear:\n",
    "                print(self.queue[point], end=' ')\n",
    "                point += 1"
   ]
  },
  {
   "cell_type": "code",
   "execution_count": 116,
   "id": "capital-madonna",
   "metadata": {},
   "outputs": [
    {
     "name": "stdout",
     "output_type": "stream",
     "text": [
      "<<<< Display >>>>\n",
      "5 False test -1 0 None\n",
      "<<< Size >>>\n",
      "5\n",
      "False test -1 0 50 None\n",
      "<<< Size after Dequeue and Enqueue 50 >>>\n",
      "5\n"
     ]
    }
   ],
   "source": [
    "q = Queue()\n",
    "\n",
    "q.enqueue(5)\n",
    "q.enqueue(False)\n",
    "q.enqueue('test')\n",
    "q.enqueue(-1)\n",
    "q.enqueue(0)\n",
    "\n",
    "print('<<<< Display >>>>')\n",
    "print(q.display())\n",
    "\n",
    "print('<<< Size >>>')\n",
    "print(q.size())\n",
    "\n",
    "q.dequeue()\n",
    "q.enqueue(50)\n",
    "\n",
    "print(q.display())\n",
    "print('<<< Size after Dequeue and Enqueue 50 >>>')\n",
    "print(q.size())"
   ]
  },
  {
   "cell_type": "markdown",
   "id": "sudden-moscow",
   "metadata": {},
   "source": [
    "## Regular Queue: Implementation using Doubly LinkedList"
   ]
  },
  {
   "cell_type": "code",
   "execution_count": 107,
   "id": "broad-direction",
   "metadata": {},
   "outputs": [],
   "source": [
    "# For queue, element should be added to end node pointer and removed from start node pointer\n",
    "# For stack, element should be removed from front node and removed from front node\n",
    "# hence stack can be implemented using single pointer\n",
    "\n",
    "class QueueNode:\n",
    "    def __init__(self, data, prev_node= None, next_node= None):\n",
    "        self.data = data\n",
    "        self.prev = prev_node\n",
    "        self.next = next_node\n",
    "        \n",
    "class Queue:\n",
    "    def __init__(self, start=None, end=None):\n",
    "        self.start = start\n",
    "        self.end = end\n",
    "        \n",
    "    def enqueue(self, data):\n",
    "        new_node = QueueNode(data)\n",
    "        new_node.prev = self.end\n",
    "        \n",
    "        if self.end == None:\n",
    "            self.start = new_node\n",
    "            self.end = new_node\n",
    "        else:\n",
    "            self.end.next = new_node\n",
    "            self.end = self.end.next\n",
    "        \n",
    "    def dequeue(self):\n",
    "        if not self.is_empty():\n",
    "            if self.start == self.end:\n",
    "                self.start = None\n",
    "                self.end = None\n",
    "\n",
    "            else:\n",
    "                self.start = self.start.next\n",
    "                self.start.prev = None\n",
    "            \n",
    "            return True\n",
    "        return False\n",
    "    \n",
    "    def size(self):\n",
    "        this_node = self.start\n",
    "        if self.is_empty():\n",
    "            return 0\n",
    "        elif self.start == self.end:\n",
    "            return 1\n",
    "        else:\n",
    "            count = 1\n",
    "            while this_node.next:\n",
    "                count+=1\n",
    "                this_node = this_node.next\n",
    "            return count\n",
    "            \n",
    "    def is_empty(self):\n",
    "        return not bool(self.start and self.end)\n",
    "        \n",
    "    def display(self):\n",
    "        this_node = self.start\n",
    "        while this_node:\n",
    "            print(this_node.data, end=' ')\n",
    "            this_node = this_node.next"
   ]
  },
  {
   "cell_type": "code",
   "execution_count": 108,
   "id": "substantial-ending",
   "metadata": {},
   "outputs": [
    {
     "name": "stdout",
     "output_type": "stream",
     "text": [
      "<<<< Display >>>>\n",
      "5 False test -1 0 None\n",
      "<<< Size >>>\n",
      "5\n",
      "False test -1 0 50 None\n",
      "<<< Size after Dequeue and Enqueue 50 >>>\n",
      "5\n"
     ]
    }
   ],
   "source": [
    "q = Queue()\n",
    "\n",
    "q.enqueue(5)\n",
    "q.enqueue(False)\n",
    "q.enqueue('test')\n",
    "q.enqueue(-1)\n",
    "q.enqueue(0)\n",
    "\n",
    "print('<<<< Display >>>>')\n",
    "print(q.display())\n",
    "\n",
    "print('<<< Size >>>')\n",
    "print(q.size())\n",
    "\n",
    "q.dequeue()\n",
    "q.enqueue(50)\n",
    "\n",
    "print(q.display())\n",
    "print('<<< Size after Dequeue and Enqueue 50 >>>')\n",
    "print(q.size())"
   ]
  },
  {
   "cell_type": "code",
   "execution_count": null,
   "id": "biological-queens",
   "metadata": {},
   "outputs": [],
   "source": []
  },
  {
   "cell_type": "markdown",
   "id": "affected-prerequisite",
   "metadata": {},
   "source": [
    "# Circular Queue Implementation"
   ]
  },
  {
   "cell_type": "markdown",
   "id": "adapted-negative",
   "metadata": {},
   "source": [
    "## Implementation using List, two pointers"
   ]
  },
  {
   "cell_type": "code",
   "execution_count": 74,
   "id": "joined-chamber",
   "metadata": {},
   "outputs": [],
   "source": [
    "class CircularQueue:\n",
    "    def __init__(self, max_size=10):\n",
    "        self.queue = [None]*max_size\n",
    "        self.max_size = max_size\n",
    "        self.front = -1\n",
    "        self.rear = -1\n",
    "        \n",
    "    def enqueue(self, data):\n",
    "        if (self.rear + 1) % self.max_size == self.front:\n",
    "                print('queue is full!!!')\n",
    "                \n",
    "        elif self.is_empty():\n",
    "            self.rear = 0\n",
    "            self.front = 0\n",
    "            self.queue[(self.rear % self.max_size)] = data\n",
    "        \n",
    "        else:\n",
    "            self.rear = (self.rear + 1) % self.max_size\n",
    "            self.queue[(self.rear % self.max_size)] = data\n",
    "            \n",
    "\n",
    "    def dequeue(self):\n",
    "        if self.is_empty():\n",
    "            print(\"Nothing in here in the queue!!\")\n",
    "        else:\n",
    "            if self.front + 1 == self.rear:\n",
    "                self.rear, self.front = -1, -1\n",
    "                self.queue.pop()\n",
    "            else:\n",
    "                self.front = (self.front + 1) % self.max_size\n",
    "                \n",
    "    def is_empty(self):\n",
    "        return (self.front == -1 and self.rear == -1)\n",
    "        \n",
    "        \n",
    "    def display(self):\n",
    "        if(self.front == -1):\n",
    "            print(\"No element in the circular queue\")\n",
    "\n",
    "        elif (self.rear >= self.front):\n",
    "            for i in range(self.front, self.rear + 1):\n",
    "                print(self.queue[i], end=\" \")\n",
    "            print()\n",
    "        else:\n",
    "            for i in range(self.front, self.max_size):\n",
    "                print(self.queue[i], end=\" \")\n",
    "            for i in range(0, self.rear + 1):\n",
    "                print(self.queue[i], end=\" \")\n",
    "            print()\n",
    "            \n",
    "    def size(self):\n",
    "        if self.rear >= self.front:\n",
    "            print(self.rear - self.front + 1)\n",
    "        else:\n",
    "            print(self.rear + self.max_size - self.front + 1)"
   ]
  },
  {
   "cell_type": "code",
   "execution_count": 75,
   "id": "angry-danish",
   "metadata": {},
   "outputs": [
    {
     "name": "stdout",
     "output_type": "stream",
     "text": [
      "queue is full!!!\n",
      "<<< size after dequeueing >>>\n",
      "4\n",
      "<<<< Display >>>>\n",
      "5 False test -1 \n",
      "<<< Display after Dequeue >>>\n",
      "False test -1 \n",
      "<<< size after dequeueing >>>\n",
      "3\n",
      "<<< size after enqueueing 12 >>>\n",
      "4\n"
     ]
    }
   ],
   "source": [
    "q = CircularQueue(4)\n",
    "\n",
    "q.enqueue(5)\n",
    "q.enqueue(False)\n",
    "q.enqueue('test')\n",
    "q.enqueue(-1)\n",
    "q.enqueue(0)\n",
    "\n",
    "print('<<< size after dequeueing >>>')\n",
    "q.size()\n",
    "\n",
    "print('<<<< Display >>>>')\n",
    "q.display()\n",
    "\n",
    "q.dequeue()\n",
    "print('<<< Display after Dequeue >>>')\n",
    "q.display()\n",
    "\n",
    "print('<<< size after dequeueing >>>')\n",
    "q.size()\n",
    "\n",
    "q.enqueue(12)\n",
    "\n",
    "print('<<< size after enqueueing 12 >>>')\n",
    "q.size()"
   ]
  },
  {
   "cell_type": "code",
   "execution_count": null,
   "id": "actual-affect",
   "metadata": {},
   "outputs": [],
   "source": []
  },
  {
   "cell_type": "markdown",
   "id": "resistant-relationship",
   "metadata": {},
   "source": [
    "# Problem Solving"
   ]
  },
  {
   "cell_type": "code",
   "execution_count": null,
   "id": "liquid-month",
   "metadata": {},
   "outputs": [],
   "source": []
  }
 ],
 "metadata": {
  "kernelspec": {
   "display_name": "Python 3",
   "language": "python",
   "name": "python3"
  },
  "language_info": {
   "codemirror_mode": {
    "name": "ipython",
    "version": 3
   },
   "file_extension": ".py",
   "mimetype": "text/x-python",
   "name": "python",
   "nbconvert_exporter": "python",
   "pygments_lexer": "ipython3",
   "version": "3.5.2"
  }
 },
 "nbformat": 4,
 "nbformat_minor": 5
}
